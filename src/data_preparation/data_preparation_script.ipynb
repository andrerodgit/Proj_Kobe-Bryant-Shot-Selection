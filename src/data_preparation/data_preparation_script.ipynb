{
 "cells": [
  {
   "cell_type": "code",
   "execution_count": 1,
   "id": "8fbade4f-4acd-4e85-bac8-632c9c675f43",
   "metadata": {},
   "outputs": [],
   "source": [
    "#cd Proj_Kobe-Bryant-Shot-Selection\n",
    "#pip install -r requirements.txt"
   ]
  },
  {
   "cell_type": "markdown",
   "id": "c3c03c0b-d79f-4ac7-a8d5-b35984b37d30",
   "metadata": {},
   "source": [
    "Importar Bibliotecas Necessárias:"
   ]
  },
  {
   "cell_type": "code",
   "execution_count": 3,
   "id": "59d7afa6-2ca2-44dd-bf2d-a1a1480cd64b",
   "metadata": {},
   "outputs": [],
   "source": [
    "import os\n",
    "import pandas as pd\n",
    "import numpy as np\n",
    "from sklearn.model_selection import train_test_split\n",
    "from sklearn.linear_model import LogisticRegression\n",
    "from sklearn.metrics import log_loss\n",
    "import mlflow\n",
    "import mlflow.sklearn\n",
    "from pycaret.classification import *\n"
   ]
  },
  {
   "cell_type": "code",
   "execution_count": 4,
   "id": "7373aaef-ebb1-486d-8099-a46f08e88c55",
   "metadata": {},
   "outputs": [],
   "source": [
    "#print(mlflow.__version__)"
   ]
  },
  {
   "cell_type": "code",
   "execution_count": 5,
   "id": "d0209167-3c27-47ab-8ff8-714de7031c7a",
   "metadata": {},
   "outputs": [
    {
     "data": {
      "text/plain": [
       "<ActiveRun: >"
      ]
     },
     "execution_count": 5,
     "metadata": {},
     "output_type": "execute_result"
    }
   ],
   "source": [
    "# Iniciar o experimento do MLFlow\n",
    "mlflow.start_run()"
   ]
  },
  {
   "cell_type": "markdown",
   "id": "1ae5915c-9340-47f9-94ec-7033e77efd1e",
   "metadata": {},
   "source": [
    "Carregar os Dados Brutos do arquivo CSV"
   ]
  },
  {
   "cell_type": "code",
   "execution_count": 7,
   "id": "8494ad4b-a6d3-4fca-b08a-7cc69cab85c8",
   "metadata": {},
   "outputs": [
    {
     "data": {
      "text/html": [
       "<div>\n",
       "<style scoped>\n",
       "    .dataframe tbody tr th:only-of-type {\n",
       "        vertical-align: middle;\n",
       "    }\n",
       "\n",
       "    .dataframe tbody tr th {\n",
       "        vertical-align: top;\n",
       "    }\n",
       "\n",
       "    .dataframe thead th {\n",
       "        text-align: right;\n",
       "    }\n",
       "</style>\n",
       "<table border=\"1\" class=\"dataframe\">\n",
       "  <thead>\n",
       "    <tr style=\"text-align: right;\">\n",
       "      <th></th>\n",
       "      <th>action_type</th>\n",
       "      <th>combined_shot_type</th>\n",
       "      <th>game_event_id</th>\n",
       "      <th>game_id</th>\n",
       "      <th>lat</th>\n",
       "      <th>loc_x</th>\n",
       "      <th>loc_y</th>\n",
       "      <th>lon</th>\n",
       "      <th>minutes_remaining</th>\n",
       "      <th>period</th>\n",
       "      <th>...</th>\n",
       "      <th>shot_type</th>\n",
       "      <th>shot_zone_area</th>\n",
       "      <th>shot_zone_basic</th>\n",
       "      <th>shot_zone_range</th>\n",
       "      <th>team_id</th>\n",
       "      <th>team_name</th>\n",
       "      <th>game_date</th>\n",
       "      <th>matchup</th>\n",
       "      <th>opponent</th>\n",
       "      <th>shot_id</th>\n",
       "    </tr>\n",
       "  </thead>\n",
       "  <tbody>\n",
       "    <tr>\n",
       "      <th>0</th>\n",
       "      <td>Jump Shot</td>\n",
       "      <td>Jump Shot</td>\n",
       "      <td>10</td>\n",
       "      <td>20000012</td>\n",
       "      <td>33.9723</td>\n",
       "      <td>167</td>\n",
       "      <td>72</td>\n",
       "      <td>-118.1028</td>\n",
       "      <td>10</td>\n",
       "      <td>1</td>\n",
       "      <td>...</td>\n",
       "      <td>2PT Field Goal</td>\n",
       "      <td>Right Side(R)</td>\n",
       "      <td>Mid-Range</td>\n",
       "      <td>16-24 ft.</td>\n",
       "      <td>1610612747</td>\n",
       "      <td>Los Angeles Lakers</td>\n",
       "      <td>2000-10-31</td>\n",
       "      <td>LAL @ POR</td>\n",
       "      <td>POR</td>\n",
       "      <td>1</td>\n",
       "    </tr>\n",
       "    <tr>\n",
       "      <th>1</th>\n",
       "      <td>Jump Shot</td>\n",
       "      <td>Jump Shot</td>\n",
       "      <td>12</td>\n",
       "      <td>20000012</td>\n",
       "      <td>34.0443</td>\n",
       "      <td>-157</td>\n",
       "      <td>0</td>\n",
       "      <td>-118.4268</td>\n",
       "      <td>10</td>\n",
       "      <td>1</td>\n",
       "      <td>...</td>\n",
       "      <td>2PT Field Goal</td>\n",
       "      <td>Left Side(L)</td>\n",
       "      <td>Mid-Range</td>\n",
       "      <td>8-16 ft.</td>\n",
       "      <td>1610612747</td>\n",
       "      <td>Los Angeles Lakers</td>\n",
       "      <td>2000-10-31</td>\n",
       "      <td>LAL @ POR</td>\n",
       "      <td>POR</td>\n",
       "      <td>2</td>\n",
       "    </tr>\n",
       "    <tr>\n",
       "      <th>2</th>\n",
       "      <td>Jump Shot</td>\n",
       "      <td>Jump Shot</td>\n",
       "      <td>35</td>\n",
       "      <td>20000012</td>\n",
       "      <td>33.9093</td>\n",
       "      <td>-101</td>\n",
       "      <td>135</td>\n",
       "      <td>-118.3708</td>\n",
       "      <td>7</td>\n",
       "      <td>1</td>\n",
       "      <td>...</td>\n",
       "      <td>2PT Field Goal</td>\n",
       "      <td>Left Side Center(LC)</td>\n",
       "      <td>Mid-Range</td>\n",
       "      <td>16-24 ft.</td>\n",
       "      <td>1610612747</td>\n",
       "      <td>Los Angeles Lakers</td>\n",
       "      <td>2000-10-31</td>\n",
       "      <td>LAL @ POR</td>\n",
       "      <td>POR</td>\n",
       "      <td>3</td>\n",
       "    </tr>\n",
       "    <tr>\n",
       "      <th>3</th>\n",
       "      <td>Jump Shot</td>\n",
       "      <td>Jump Shot</td>\n",
       "      <td>43</td>\n",
       "      <td>20000012</td>\n",
       "      <td>33.8693</td>\n",
       "      <td>138</td>\n",
       "      <td>175</td>\n",
       "      <td>-118.1318</td>\n",
       "      <td>6</td>\n",
       "      <td>1</td>\n",
       "      <td>...</td>\n",
       "      <td>2PT Field Goal</td>\n",
       "      <td>Right Side Center(RC)</td>\n",
       "      <td>Mid-Range</td>\n",
       "      <td>16-24 ft.</td>\n",
       "      <td>1610612747</td>\n",
       "      <td>Los Angeles Lakers</td>\n",
       "      <td>2000-10-31</td>\n",
       "      <td>LAL @ POR</td>\n",
       "      <td>POR</td>\n",
       "      <td>4</td>\n",
       "    </tr>\n",
       "    <tr>\n",
       "      <th>4</th>\n",
       "      <td>Driving Dunk Shot</td>\n",
       "      <td>Dunk</td>\n",
       "      <td>155</td>\n",
       "      <td>20000012</td>\n",
       "      <td>34.0443</td>\n",
       "      <td>0</td>\n",
       "      <td>0</td>\n",
       "      <td>-118.2698</td>\n",
       "      <td>6</td>\n",
       "      <td>2</td>\n",
       "      <td>...</td>\n",
       "      <td>2PT Field Goal</td>\n",
       "      <td>Center(C)</td>\n",
       "      <td>Restricted Area</td>\n",
       "      <td>Less Than 8 ft.</td>\n",
       "      <td>1610612747</td>\n",
       "      <td>Los Angeles Lakers</td>\n",
       "      <td>2000-10-31</td>\n",
       "      <td>LAL @ POR</td>\n",
       "      <td>POR</td>\n",
       "      <td>5</td>\n",
       "    </tr>\n",
       "  </tbody>\n",
       "</table>\n",
       "<p>5 rows × 25 columns</p>\n",
       "</div>"
      ],
      "text/plain": [
       "         action_type combined_shot_type  game_event_id   game_id      lat  \\\n",
       "0          Jump Shot          Jump Shot             10  20000012  33.9723   \n",
       "1          Jump Shot          Jump Shot             12  20000012  34.0443   \n",
       "2          Jump Shot          Jump Shot             35  20000012  33.9093   \n",
       "3          Jump Shot          Jump Shot             43  20000012  33.8693   \n",
       "4  Driving Dunk Shot               Dunk            155  20000012  34.0443   \n",
       "\n",
       "   loc_x  loc_y       lon  minutes_remaining  period  ...       shot_type  \\\n",
       "0    167     72 -118.1028                 10       1  ...  2PT Field Goal   \n",
       "1   -157      0 -118.4268                 10       1  ...  2PT Field Goal   \n",
       "2   -101    135 -118.3708                  7       1  ...  2PT Field Goal   \n",
       "3    138    175 -118.1318                  6       1  ...  2PT Field Goal   \n",
       "4      0      0 -118.2698                  6       2  ...  2PT Field Goal   \n",
       "\n",
       "          shot_zone_area  shot_zone_basic  shot_zone_range     team_id  \\\n",
       "0          Right Side(R)        Mid-Range        16-24 ft.  1610612747   \n",
       "1           Left Side(L)        Mid-Range         8-16 ft.  1610612747   \n",
       "2   Left Side Center(LC)        Mid-Range        16-24 ft.  1610612747   \n",
       "3  Right Side Center(RC)        Mid-Range        16-24 ft.  1610612747   \n",
       "4              Center(C)  Restricted Area  Less Than 8 ft.  1610612747   \n",
       "\n",
       "            team_name   game_date    matchup opponent  shot_id  \n",
       "0  Los Angeles Lakers  2000-10-31  LAL @ POR      POR        1  \n",
       "1  Los Angeles Lakers  2000-10-31  LAL @ POR      POR        2  \n",
       "2  Los Angeles Lakers  2000-10-31  LAL @ POR      POR        3  \n",
       "3  Los Angeles Lakers  2000-10-31  LAL @ POR      POR        4  \n",
       "4  Los Angeles Lakers  2000-10-31  LAL @ POR      POR        5  \n",
       "\n",
       "[5 rows x 25 columns]"
      ]
     },
     "execution_count": 7,
     "metadata": {},
     "output_type": "execute_result"
    }
   ],
   "source": [
    "file_path = 'Proj_Kobe-Bryant-Shot-Selection/data/raw/data.csv'\n",
    "df_kobe = pd.read_csv(file_path, sep=',')\n",
    "df_kobe.head()"
   ]
  },
  {
   "cell_type": "code",
   "execution_count": 8,
   "id": "84f9b735-a49f-48e6-be17-25491a1adede",
   "metadata": {},
   "outputs": [
    {
     "name": "stdout",
     "output_type": "stream",
     "text": [
      "Número de linhas no DataFrame: 30697\n"
     ]
    }
   ],
   "source": [
    "print(\"Número de linhas no DataFrame:\", df_kobe.shape[0])"
   ]
  },
  {
   "cell_type": "markdown",
   "id": "0f23a5eb-5466-4c1c-84b7-0ab89491487f",
   "metadata": {},
   "source": [
    "6. b. Pré-processamento dos Dados processed_data"
   ]
  },
  {
   "cell_type": "code",
   "execution_count": 10,
   "id": "02fe96ce-1782-42b2-b65f-95ef75a22580",
   "metadata": {},
   "outputs": [
    {
     "name": "stdout",
     "output_type": "stream",
     "text": [
      "Número de linhas no DataFrame após o pré-processamento: 20285\n"
     ]
    }
   ],
   "source": [
    "# Filtrar os dados onde o valor de shot_type é igual a '2PT Field Goal'\n",
    "df_kobe = df_kobe[df_kobe['shot_type'] == '2PT Field Goal']\n",
    "\n",
    "# Filtrar o DataFrame para incluir apenas as colunas especificadas\n",
    "columns_to_keep = ['lat', 'lon', 'minutes_remaining', 'period', 'playoffs', 'shot_distance', 'shot_made_flag']\n",
    "df_kobe = df_kobe[columns_to_keep]\n",
    "\n",
    "def preprocess_data(raw_data):\n",
    "    # Tratar dados ausentes, se houver\n",
    "    processed_data = raw_data.dropna().copy()  # Copiar o DataFrame para garantir que estamos trabalhando com uma cópia\n",
    "    \n",
    "    # Substituir valores faltantes na coluna 'shot_made_flag' por 0 (indicando que o arremesso foi errado)\n",
    "    processed_data['shot_made_flag'].fillna(0, inplace=True)\n",
    "    \n",
    "    # Converter a coluna 'shot_made_flag' para tipo inteiro\n",
    "    processed_data['shot_made_flag'] = processed_data['shot_made_flag'].astype(int)\n",
    "    \n",
    "    return processed_data\n",
    "\n",
    "# Aplicar o pré-processamento aos dados brutos\n",
    "df_kobe = preprocess_data(df_kobe)\n",
    "\n",
    "print(\"Número de linhas no DataFrame após o pré-processamento:\", df_kobe.shape[0])"
   ]
  },
  {
   "cell_type": "markdown",
   "id": "73d9abea-b696-4881-8b0a-5136edcdfd16",
   "metadata": {},
   "source": [
    "6. b. Transformação em Parquet e Dimensão resultante do dataset"
   ]
  },
  {
   "cell_type": "code",
   "execution_count": 12,
   "id": "ef8bb0f2-b719-47d2-a325-db54f06f5586",
   "metadata": {},
   "outputs": [
    {
     "name": "stdout",
     "output_type": "stream",
     "text": [
      "Dimensão do DataFrame filtrado: (20285, 7)\n"
     ]
    }
   ],
   "source": [
    "# Salvar o DataFrame filtrado em um arquivo parquet\n",
    "output_file = 'Proj_Kobe-Bryant-Shot-Selection/data/processed/data_filtered.parquet'\n",
    "df_kobe.to_parquet(output_file)\n",
    "\n",
    "# Verificar a dimensão resultante do DataFrame filtrado\n",
    "print(\"Dimensão do DataFrame filtrado:\", df_kobe.shape)"
   ]
  },
  {
   "cell_type": "markdown",
   "id": "180d1c2b-0e4b-4915-9bf3-90a5626da980",
   "metadata": {},
   "source": [
    "6. c. Divisão dos Dados em Conjuntos de Treino (80%) e Teste (20 %)"
   ]
  },
  {
   "cell_type": "code",
   "execution_count": 14,
   "id": "e869394a-955e-4c37-a4c6-29c8991edacb",
   "metadata": {},
   "outputs": [],
   "source": [
    "def split_data(data, test_size=0.2):\n",
    "\n",
    "    X = data.drop('shot_made_flag', axis=1)\n",
    "    y = data['shot_made_flag']\n",
    "    \n",
    "    # Dividir os dados de forma aleatória e estratificada\n",
    "    X_train, X_test, y_train, y_test = train_test_split(X, y, test_size=test_size, stratify=y, random_state=42)\n",
    "    \n",
    "    return X_train, X_test, y_train, y_test\n",
    "\n",
    "if __name__ == \"__main__\":\n",
    "    \n",
    "    # Dividir os dados em conjuntos de treino e teste\n",
    "    X_train, X_test, y_train, y_test = split_data(df_kobe)"
   ]
  },
  {
   "cell_type": "markdown",
   "id": "92a8946a-12ec-42cc-a4ad-f703a69af646",
   "metadata": {},
   "source": [
    "6. c. Armazenar os datasets resultantes em arquivos Parquet"
   ]
  },
  {
   "cell_type": "code",
   "execution_count": 16,
   "id": "f8ef4f41-f507-4cdd-8fe7-9d56a42f5eea",
   "metadata": {},
   "outputs": [],
   "source": [
    "def save_data(X, y, file_path):\n",
    "\n",
    "    # Criar o diretório se não existir\n",
    "    os.makedirs(os.path.dirname(file_path), exist_ok=True)\n",
    "    \n",
    "    # Concatenar os recursos e o alvo\n",
    "    data = pd.concat([X, y], axis=1)\n",
    "    \n",
    "    # Salvar os dados em formato Parquet\n",
    "    data.to_parquet(file_path, index=False)\n",
    "\n",
    "if __name__ == \"__main__\":\n",
    "\n",
    "    # Salvar os conjuntos de dados em arquivos Parquet\n",
    "    save_data(X_train, y_train, \"Proj_Kobe-Bryant-Shot-Selection/data/processed/base_train.parquet\")\n",
    "    save_data(X_test, y_test, \"Proj_Kobe-Bryant-Shot-Selection/data/processed/base_test.parquet\")\n"
   ]
  },
  {
   "cell_type": "markdown",
   "id": "ad331725-2287-4e9d-8a49-6bcc3c588ce4",
   "metadata": {},
   "source": [
    "6. d. Registre os parâmetros (% teste) e métricas (tamanho de cada base) no MlFlow"
   ]
  },
  {
   "cell_type": "code",
   "execution_count": 18,
   "id": "86ff95c4-cc74-4197-98e6-cf0acbcbf4b5",
   "metadata": {},
   "outputs": [],
   "source": [
    "# Definir as features e o target\n",
    "features = df_kobe.drop('shot_made_flag', axis=1)\n",
    "target = df_kobe['shot_made_flag']\n",
    "\n",
    "if __name__ == \"__main__\":\n",
    "    # Encerrar qualquer execução ativa antes de iniciar uma nova\n",
    "    if mlflow.active_run():\n",
    "        mlflow.end_run()\n",
    "\n",
    "    # Iniciar o experimento do MLFlow\n",
    "    mlflow.start_run()\n",
    "    \n",
    "    # Calcular o percentual de teste\n",
    "    test_percentage = len(X_test) / len(df_kobe)\n",
    "        \n",
    "    # Registrar os parâmetros e métricas no MLflow\n",
    "    mlflow.log_param(\"test_percentage\", test_percentage)\n",
    "    mlflow.log_metric(\"train_dataset_size\", len(X_train))\n",
    "    mlflow.log_metric(\"test_dataset_size\", len(X_test))\n",
    "    \n",
    "    # Finalizar o experimento do MLflow\n",
    "    mlflow.end_run()\n"
   ]
  },
  {
   "cell_type": "markdown",
   "id": "a3126578-2c4b-4e85-b3c9-b09287a624c2",
   "metadata": {},
   "source": [
    "7. a, b, c, d. Implementar o pipeline de treinamento do modelo com o MlFlow usando o nome \"Treinamento\""
   ]
  },
  {
   "cell_type": "code",
   "execution_count": 20,
   "id": "76ced069-d484-414a-b4d0-bb62c5cf0a9e",
   "metadata": {},
   "outputs": [
    {
     "data": {
      "text/html": [
       "<style type=\"text/css\">\n",
       "#T_9635c_row8_col1 {\n",
       "  background-color: lightgreen;\n",
       "}\n",
       "</style>\n",
       "<table id=\"T_9635c\">\n",
       "  <thead>\n",
       "    <tr>\n",
       "      <th class=\"blank level0\" >&nbsp;</th>\n",
       "      <th id=\"T_9635c_level0_col0\" class=\"col_heading level0 col0\" >Description</th>\n",
       "      <th id=\"T_9635c_level0_col1\" class=\"col_heading level0 col1\" >Value</th>\n",
       "    </tr>\n",
       "  </thead>\n",
       "  <tbody>\n",
       "    <tr>\n",
       "      <th id=\"T_9635c_level0_row0\" class=\"row_heading level0 row0\" >0</th>\n",
       "      <td id=\"T_9635c_row0_col0\" class=\"data row0 col0\" >Session id</td>\n",
       "      <td id=\"T_9635c_row0_col1\" class=\"data row0 col1\" >5883</td>\n",
       "    </tr>\n",
       "    <tr>\n",
       "      <th id=\"T_9635c_level0_row1\" class=\"row_heading level0 row1\" >1</th>\n",
       "      <td id=\"T_9635c_row1_col0\" class=\"data row1 col0\" >Target</td>\n",
       "      <td id=\"T_9635c_row1_col1\" class=\"data row1 col1\" >shot_made_flag</td>\n",
       "    </tr>\n",
       "    <tr>\n",
       "      <th id=\"T_9635c_level0_row2\" class=\"row_heading level0 row2\" >2</th>\n",
       "      <td id=\"T_9635c_row2_col0\" class=\"data row2 col0\" >Target type</td>\n",
       "      <td id=\"T_9635c_row2_col1\" class=\"data row2 col1\" >Binary</td>\n",
       "    </tr>\n",
       "    <tr>\n",
       "      <th id=\"T_9635c_level0_row3\" class=\"row_heading level0 row3\" >3</th>\n",
       "      <td id=\"T_9635c_row3_col0\" class=\"data row3 col0\" >Original data shape</td>\n",
       "      <td id=\"T_9635c_row3_col1\" class=\"data row3 col1\" >(16228, 7)</td>\n",
       "    </tr>\n",
       "    <tr>\n",
       "      <th id=\"T_9635c_level0_row4\" class=\"row_heading level0 row4\" >4</th>\n",
       "      <td id=\"T_9635c_row4_col0\" class=\"data row4 col0\" >Transformed data shape</td>\n",
       "      <td id=\"T_9635c_row4_col1\" class=\"data row4 col1\" >(16228, 7)</td>\n",
       "    </tr>\n",
       "    <tr>\n",
       "      <th id=\"T_9635c_level0_row5\" class=\"row_heading level0 row5\" >5</th>\n",
       "      <td id=\"T_9635c_row5_col0\" class=\"data row5 col0\" >Transformed train set shape</td>\n",
       "      <td id=\"T_9635c_row5_col1\" class=\"data row5 col1\" >(11359, 7)</td>\n",
       "    </tr>\n",
       "    <tr>\n",
       "      <th id=\"T_9635c_level0_row6\" class=\"row_heading level0 row6\" >6</th>\n",
       "      <td id=\"T_9635c_row6_col0\" class=\"data row6 col0\" >Transformed test set shape</td>\n",
       "      <td id=\"T_9635c_row6_col1\" class=\"data row6 col1\" >(4869, 7)</td>\n",
       "    </tr>\n",
       "    <tr>\n",
       "      <th id=\"T_9635c_level0_row7\" class=\"row_heading level0 row7\" >7</th>\n",
       "      <td id=\"T_9635c_row7_col0\" class=\"data row7 col0\" >Numeric features</td>\n",
       "      <td id=\"T_9635c_row7_col1\" class=\"data row7 col1\" >6</td>\n",
       "    </tr>\n",
       "    <tr>\n",
       "      <th id=\"T_9635c_level0_row8\" class=\"row_heading level0 row8\" >8</th>\n",
       "      <td id=\"T_9635c_row8_col0\" class=\"data row8 col0\" >Preprocess</td>\n",
       "      <td id=\"T_9635c_row8_col1\" class=\"data row8 col1\" >True</td>\n",
       "    </tr>\n",
       "    <tr>\n",
       "      <th id=\"T_9635c_level0_row9\" class=\"row_heading level0 row9\" >9</th>\n",
       "      <td id=\"T_9635c_row9_col0\" class=\"data row9 col0\" >Imputation type</td>\n",
       "      <td id=\"T_9635c_row9_col1\" class=\"data row9 col1\" >simple</td>\n",
       "    </tr>\n",
       "    <tr>\n",
       "      <th id=\"T_9635c_level0_row10\" class=\"row_heading level0 row10\" >10</th>\n",
       "      <td id=\"T_9635c_row10_col0\" class=\"data row10 col0\" >Numeric imputation</td>\n",
       "      <td id=\"T_9635c_row10_col1\" class=\"data row10 col1\" >mean</td>\n",
       "    </tr>\n",
       "    <tr>\n",
       "      <th id=\"T_9635c_level0_row11\" class=\"row_heading level0 row11\" >11</th>\n",
       "      <td id=\"T_9635c_row11_col0\" class=\"data row11 col0\" >Categorical imputation</td>\n",
       "      <td id=\"T_9635c_row11_col1\" class=\"data row11 col1\" >mode</td>\n",
       "    </tr>\n",
       "    <tr>\n",
       "      <th id=\"T_9635c_level0_row12\" class=\"row_heading level0 row12\" >12</th>\n",
       "      <td id=\"T_9635c_row12_col0\" class=\"data row12 col0\" >Fold Generator</td>\n",
       "      <td id=\"T_9635c_row12_col1\" class=\"data row12 col1\" >StratifiedKFold</td>\n",
       "    </tr>\n",
       "    <tr>\n",
       "      <th id=\"T_9635c_level0_row13\" class=\"row_heading level0 row13\" >13</th>\n",
       "      <td id=\"T_9635c_row13_col0\" class=\"data row13 col0\" >Fold Number</td>\n",
       "      <td id=\"T_9635c_row13_col1\" class=\"data row13 col1\" >10</td>\n",
       "    </tr>\n",
       "    <tr>\n",
       "      <th id=\"T_9635c_level0_row14\" class=\"row_heading level0 row14\" >14</th>\n",
       "      <td id=\"T_9635c_row14_col0\" class=\"data row14 col0\" >CPU Jobs</td>\n",
       "      <td id=\"T_9635c_row14_col1\" class=\"data row14 col1\" >-1</td>\n",
       "    </tr>\n",
       "    <tr>\n",
       "      <th id=\"T_9635c_level0_row15\" class=\"row_heading level0 row15\" >15</th>\n",
       "      <td id=\"T_9635c_row15_col0\" class=\"data row15 col0\" >Use GPU</td>\n",
       "      <td id=\"T_9635c_row15_col1\" class=\"data row15 col1\" >False</td>\n",
       "    </tr>\n",
       "    <tr>\n",
       "      <th id=\"T_9635c_level0_row16\" class=\"row_heading level0 row16\" >16</th>\n",
       "      <td id=\"T_9635c_row16_col0\" class=\"data row16 col0\" >Log Experiment</td>\n",
       "      <td id=\"T_9635c_row16_col1\" class=\"data row16 col1\" >False</td>\n",
       "    </tr>\n",
       "    <tr>\n",
       "      <th id=\"T_9635c_level0_row17\" class=\"row_heading level0 row17\" >17</th>\n",
       "      <td id=\"T_9635c_row17_col0\" class=\"data row17 col0\" >Experiment Name</td>\n",
       "      <td id=\"T_9635c_row17_col1\" class=\"data row17 col1\" >clf-default-name</td>\n",
       "    </tr>\n",
       "    <tr>\n",
       "      <th id=\"T_9635c_level0_row18\" class=\"row_heading level0 row18\" >18</th>\n",
       "      <td id=\"T_9635c_row18_col0\" class=\"data row18 col0\" >USI</td>\n",
       "      <td id=\"T_9635c_row18_col1\" class=\"data row18 col1\" >1daa</td>\n",
       "    </tr>\n",
       "  </tbody>\n",
       "</table>\n"
      ],
      "text/plain": [
       "<pandas.io.formats.style.Styler at 0x7efeb7663bd0>"
      ]
     },
     "metadata": {},
     "output_type": "display_data"
    },
    {
     "data": {
      "text/html": [
       "<div>\n",
       "<style scoped>\n",
       "    .dataframe tbody tr th:only-of-type {\n",
       "        vertical-align: middle;\n",
       "    }\n",
       "\n",
       "    .dataframe tbody tr th {\n",
       "        vertical-align: top;\n",
       "    }\n",
       "\n",
       "    .dataframe thead th {\n",
       "        text-align: right;\n",
       "    }\n",
       "</style>\n",
       "<table border=\"1\" class=\"dataframe\">\n",
       "  <thead>\n",
       "    <tr style=\"text-align: right;\">\n",
       "      <th></th>\n",
       "      <th></th>\n",
       "      <th></th>\n",
       "    </tr>\n",
       "    <tr>\n",
       "      <th></th>\n",
       "      <th></th>\n",
       "      <th></th>\n",
       "    </tr>\n",
       "  </thead>\n",
       "  <tbody>\n",
       "    <tr>\n",
       "      <th>Initiated</th>\n",
       "      <td>. . . . . . . . . . . . . . . . . .</td>\n",
       "      <td>00:15:25</td>\n",
       "    </tr>\n",
       "    <tr>\n",
       "      <th>Status</th>\n",
       "      <td>. . . . . . . . . . . . . . . . . .</td>\n",
       "      <td>Fitting 10 Folds</td>\n",
       "    </tr>\n",
       "    <tr>\n",
       "      <th>Estimator</th>\n",
       "      <td>. . . . . . . . . . . . . . . . . .</td>\n",
       "      <td>Logistic Regression</td>\n",
       "    </tr>\n",
       "  </tbody>\n",
       "</table>\n",
       "</div>"
      ],
      "text/plain": [
       "                                                                   \n",
       "                                                                   \n",
       "Initiated  . . . . . . . . . . . . . . . . . .             00:15:25\n",
       "Status     . . . . . . . . . . . . . . . . . .     Fitting 10 Folds\n",
       "Estimator  . . . . . . . . . . . . . . . . . .  Logistic Regression"
      ]
     },
     "metadata": {},
     "output_type": "display_data"
    },
    {
     "data": {
      "text/html": [],
      "text/plain": [
       "<IPython.core.display.HTML object>"
      ]
     },
     "metadata": {},
     "output_type": "display_data"
    },
    {
     "data": {
      "application/vnd.jupyter.widget-view+json": {
       "model_id": "43985bc245b145d2b1fcdeffef8ef47f",
       "version_major": 2,
       "version_minor": 0
      },
      "text/plain": [
       "Processing:   0%|          | 0/4 [00:00<?, ?it/s]"
      ]
     },
     "metadata": {},
     "output_type": "display_data"
    },
    {
     "name": "stderr",
     "output_type": "stream",
     "text": [
      "\n",
      "KeyboardInterrupt\n",
      "\n"
     ]
    }
   ],
   "source": [
    "# Iniciar o experimento do MLflow com o nome especificado\n",
    "if mlflow.active_run():\n",
    "    mlflow.end_run()\n",
    "\n",
    "mlflow.start_run(run_name=\"Treinamento\")\n",
    "\n",
    "# Separar os dados em conjuntos de treinamento e teste\n",
    "X_train, X_test, y_train, y_test = train_test_split(features, target, test_size=0.2, random_state=42)\n",
    "\n",
    "# Treinar um modelo de regressão logística usando a biblioteca PyCaret\n",
    "setup(data=pd.concat([X_train, y_train], axis=1), target='shot_made_flag')\n",
    "lr_model = create_model('lr')\n",
    "\n",
    "# Prever probabilidades usando o modelo de regressão logística\n",
    "lr_predictions_proba = lr_model.predict_proba(X_test)\n",
    "lr_predictions_proba_positive = lr_predictions_proba[:, 1]\n",
    "\n",
    "# Calcular a função de custo \"log loss\" usando as probabilidades previstas\n",
    "log_loss_test = log_loss(y_test, lr_predictions_proba_positive)\n",
    "mlflow.log_metric(\"log_loss_test\", log_loss_test)\n",
    "\n",
    "# Treinar um modelo de classificação usando a biblioteca PyCaret\n",
    "setup(data=pd.concat([X_train, y_train], axis=1), target='shot_made_flag')\n",
    "classification_model = compare_models()\n",
    "\n",
    "# Fazer previsões usando o modelo de classificação\n",
    "classification_model_predictions = classification_model.predict(X_test)\n",
    "\n",
    "# Registrar a função de custo \"log loss\" e F1_score para esse novo modelo\n",
    "log_loss_classification = log_loss(y_test, classification_model_predictions)\n",
    "f1_score_classification = f1_score(y_test, classification_model_predictions)\n",
    "mlflow.log_metric(\"log_loss_classification\", log_loss_classification)\n",
    "mlflow.log_metric(\"f1_score_classification\", f1_score_classification)\n",
    "\n",
    "# Finalizar o experimento do MLflow\n",
    "mlflow.end_run()\n"
   ]
  },
  {
   "cell_type": "code",
   "execution_count": null,
   "id": "003e9821-661b-40b3-a2a2-7716c67c75d7",
   "metadata": {},
   "outputs": [],
   "source": []
  }
 ],
 "metadata": {
  "kernelspec": {
   "display_name": "anaconda-panel-2023.05-py310",
   "language": "python",
   "name": "conda-env-anaconda-panel-2023.05-py310-py"
  },
  "language_info": {
   "codemirror_mode": {
    "name": "ipython",
    "version": 3
   },
   "file_extension": ".py",
   "mimetype": "text/x-python",
   "name": "python",
   "nbconvert_exporter": "python",
   "pygments_lexer": "ipython3",
   "version": "3.11.5"
  }
 },
 "nbformat": 4,
 "nbformat_minor": 5
}
